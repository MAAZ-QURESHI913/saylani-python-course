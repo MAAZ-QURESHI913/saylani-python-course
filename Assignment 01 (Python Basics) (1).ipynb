{
 "cells": [
  {
   "cell_type": "markdown",
   "metadata": {},
   "source": [
    "# Part -1 Python Basics (Variables)"
   ]
  },
  {
   "cell_type": "markdown",
   "metadata": {},
   "source": [
    "1. Print Your Name with your Father name and Date of birth using suitable escape sequence charactor"
   ]
  },
  {
   "cell_type": "code",
   "execution_count": 2,
   "metadata": {},
   "outputs": [
    {
     "name": "stdout",
     "output_type": "stream",
     "text": [
      "! Hello world... \n",
      "      <---I Am trying to Write \"A , B , C\" --->|\n",
      "      I Am Programer Maaz Asif & My Date of Birth is 6/augest/2006\n"
     ]
    }
   ],
   "source": [
    "# Write your code here\n",
    "print('''! Hello world... \n",
    "      <---I Am trying to Write \"A , B , C\" --->\n",
    "      I Am Programer Maaz Asif & My Date of Birth is 6/augest/2006''')"
   ]
  },
  {
   "cell_type": "markdown",
   "metadata": {},
   "source": [
    "2. Write your small bio using variables and print it using print function"
   ]
  },
  {
   "cell_type": "code",
   "execution_count": 7,
   "metadata": {},
   "outputs": [
    {
     "name": "stdout",
     "output_type": "stream",
     "text": [
      "Hello ! \n",
      "      i am Maaz.\n",
      "      Father`s name is Asif.\n",
      "      my age is 18.\n",
      "      my profession is Student.\n",
      "      my goal is best of best Progrmer.\n",
      "      and married status is False.\n",
      "         \n"
     ]
    }
   ],
   "source": [
    "# Write your code here\n",
    "name = \"Maaz\"\n",
    "F_name = \"Asif\"\n",
    "profession = \"Student\"\n",
    "goal = \"Progrmer\"\n",
    "age = \"18\"\n",
    "married_status = False\n",
    "\n",
    "print(f'''Hello ! \n",
    "      i am {name}.\n",
    "      Father`s name is {F_name}.\n",
    "      my age is {age}.\n",
    "      my profession is {profession}.\n",
    "      my goal is best of best {goal}.\n",
    "      and married status is {married_status}.\n",
    "         ''')"
   ]
  },
  {
   "cell_type": "markdown",
   "metadata": {},
   "source": [
    "3. Write a program in which use all the operators we can use in Python"
   ]
  },
  {
   "cell_type": "code",
   "execution_count": 9,
   "metadata": {},
   "outputs": [
    {
     "name": "stdout",
     "output_type": "stream",
     "text": [
      "Arithmetic Operators:\n",
      "a + b = 13\n",
      "a - b = 7\n",
      "a * b = 30\n",
      "a / b = 3.3333333333333335\n",
      "a % b = 1\n",
      "a ** b = 1000\n",
      "a // b = 3\n"
     ]
    }
   ],
   "source": [
    "# Write your code here\n",
    "a = 10\n",
    "b = 3\n",
    "x = 5\n",
    "\n",
    "# 1. Arithmetic Operators\n",
    "print(\"Arithmetic Operators:\")\n",
    "print(f\"a + b = {a + b}\")    \n",
    "print(f\"a - b = {a - b}\")    \n",
    "print(f\"a * b = {a * b}\")    \n",
    "print(f\"a / b = {a / b}\")    \n",
    "print(f\"a % b = {a % b}\")    \n",
    "print(f\"a ** b = {a ** b}\")  \n",
    "print(f\"a // b = {a // b}\") \n",
    "# if we write single \"/\" ans is gives in \" . \" and double to ans is round"
   ]
  },
  {
   "cell_type": "code",
   "execution_count": 10,
   "metadata": {},
   "outputs": [
    {
     "name": "stdout",
     "output_type": "stream",
     "text": [
      "\n",
      "Assignment Operators:\n",
      "x = 5\n",
      "x += 2 -> 7\n",
      "x -= 1 -> 6\n",
      "x *= 3 -> 18\n",
      "x /= 2 -> 9.0\n",
      "x %= 2 -> 1.0\n"
     ]
    }
   ],
   "source": [
    "# 2. Assignment Operators\n",
    "print(\"\\nAssignment Operators:\")\n",
    "x = 5 \n",
    "print(f\"x = {x}\")\n",
    "x += 2  \n",
    "print(f\"x += 2 -> {x}\")\n",
    "x -= 1 \n",
    "print(f\"x -= 1 -> {x}\")\n",
    "x *= 3  \n",
    "print(f\"x *= 3 -> {x}\")\n",
    "x /= 2  \n",
    "print(f\"x /= 2 -> {x}\")\n",
    "x %= 2 \n",
    "print(f\"x %= 2 -> {x}\")"
   ]
  },
  {
   "cell_type": "code",
   "execution_count": 11,
   "metadata": {},
   "outputs": [
    {
     "name": "stdout",
     "output_type": "stream",
     "text": [
      "\n",
      "Logical Operators:\n",
      "(a > 5) and (b < 5) -> True\n",
      "(a > 5) or (b > 5)  -> True\n",
      "not (a < 5)         -> True\n"
     ]
    }
   ],
   "source": [
    "# 3. Logical Operators\n",
    "print(\"\\nLogical Operators:\")\n",
    "print(f\"(a > 5) and (b < 5) -> {(a > 5) and (b < 5)}\")  \n",
    "print(f\"(a > 5) or (b > 5)  -> {(a > 5) or (b > 5)}\")   \n",
    "print(f\"not (a < 5)         -> {not (a < 5)}\") "
   ]
  },
  {
   "cell_type": "markdown",
   "metadata": {},
   "source": [
    "4. Completes the following steps of small task:\n",
    "    - Mention Marks of English , Islamiat and Maths out of 100 in 3 different variables\n",
    "    - Mention Variable of Total Marks and assign 300 to it\n",
    "    - Calculate Percentage"
   ]
  },
  {
   "cell_type": "code",
   "execution_count": 15,
   "metadata": {},
   "outputs": [
    {
     "name": "stdout",
     "output_type": "stream",
     "text": [
      "62.66666666666667\n"
     ]
    }
   ],
   "source": [
    "# Write your code here\n",
    "English = 60\n",
    "Islamiat = 79\n",
    "Maths = 49\n",
    "total_marks = 300\n",
    "\n",
    "print(((English + Islamiat + Maths) / total_marks) * 100 )\n"
   ]
  }
 ],
 "metadata": {
  "kernelspec": {
   "display_name": "Python 3 (ipykernel)",
   "language": "python",
   "name": "python3"
  },
  "language_info": {
   "codemirror_mode": {
    "name": "ipython",
    "version": 3
   },
   "file_extension": ".py",
   "mimetype": "text/x-python",
   "name": "python",
   "nbconvert_exporter": "python",
   "pygments_lexer": "ipython3",
   "version": "3.11.7"
  }
 },
 "nbformat": 4,
 "nbformat_minor": 4
}
